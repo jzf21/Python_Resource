{
 "cells": [
  {
   "cell_type": "code",
   "execution_count": 1,
   "metadata": {},
   "outputs": [
    {
     "name": "stdout",
     "output_type": "stream",
     "text": [
      "Hello World\n"
     ]
    }
   ],
   "source": [
    "print(\"Hello World\")"
   ]
  },
  {
   "cell_type": "code",
   "execution_count": 13,
   "metadata": {},
   "outputs": [
    {
     "name": "stdout",
     "output_type": "stream",
     "text": [
      "Hello World\n",
      "5\n"
     ]
    }
   ],
   "source": [
    "x=\"Hello World\"\n",
    "#This is called storing data into a variable\n",
    "#hello is known as a variable and we can store any data into it\n",
    "print(x)\n",
    "#Output: Hello World\n",
    "\n",
    "y=5\n",
    "print(\"Printing Second variable y\")\n",
    "print(y)"
   ]
  },
  {
   "attachments": {},
   "cell_type": "markdown",
   "metadata": {},
   "source": [
    "Printing Multiple variables in a single print Statement"
   ]
  },
  {
   "cell_type": "code",
   "execution_count": 14,
   "metadata": {},
   "outputs": [
    {
     "name": "stdout",
     "output_type": "stream",
     "text": [
      "John has 20 apples\n"
     ]
    }
   ],
   "source": [
    "name=\"John\"\n",
    "apples=20\n",
    "print(name,\"has\",apples,\"apples\")\n",
    "#variable name should not be put in quotes\n",
    "\n",
    "print(name,\"has\",\"apples\",\"apples\")"
   ]
  },
  {
   "attachments": {},
   "cell_type": "markdown",
   "metadata": {},
   "source": [
    "Let's try out an example\n",
    "\n",
    "Write a program to Enter your name , class and roll number and display it.\n",
    "We can store yo"
   ]
  },
  {
   "attachments": {},
   "cell_type": "markdown",
   "metadata": {},
   "source": [
    "The print statement displays the string  inside the brackets\n",
    "\n",
    "Input Statement. Input Statement let's the user to input information.\n",
    "\n",
    "In Python, the input statement is used to ask the user for some information. This information can be anything, like their name, age, or favorite color.\n",
    "\n"
   ]
  },
  {
   "cell_type": "code",
   "execution_count": null,
   "metadata": {},
   "outputs": [],
   "source": [
    "#how to use input statement\n",
    "name = input(\"What is your name? \")\n",
    "print(\"Hello\", name)"
   ]
  },
  {
   "cell_type": "code",
   "execution_count": 2,
   "metadata": {},
   "outputs": [
    {
     "ename": "SyntaxError",
     "evalue": "invalid syntax. Perhaps you forgot a comma? (2497053111.py, line 1)",
     "output_type": "error",
     "traceback": [
      "\u001b[1;36m  Cell \u001b[1;32mIn[2], line 1\u001b[1;36m\u001b[0m\n\u001b[1;33m    print(hello world)\u001b[0m\n\u001b[1;37m          ^\u001b[0m\n\u001b[1;31mSyntaxError\u001b[0m\u001b[1;31m:\u001b[0m invalid syntax. Perhaps you forgot a comma?\n"
     ]
    }
   ],
   "source": [
    "print(hello world)"
   ]
  },
  {
   "attachments": {},
   "cell_type": "markdown",
   "metadata": {},
   "source": [
    "Always Remember to Enclose the string with double quotes.\n",
    "Otherwise you will get an error."
   ]
  },
  {
   "cell_type": "code",
   "execution_count": 4,
   "metadata": {},
   "outputs": [
    {
     "name": "stdout",
     "output_type": "stream",
     "text": [
      "Addition\n",
      "15\n",
      "Subtraction\n",
      "5\n",
      "Multiplication\n",
      "50\n",
      "Division\n",
      "2.0\n"
     ]
    }
   ],
   "source": [
    "#Let's check out some basic mathematics in python\n",
    "\n",
    "#Assigning variables\n",
    "\n",
    "a=10\n",
    "b=5\n",
    "\n",
    "#Addition\n",
    "print(\"Addition\")\n",
    "print(a+b)\n",
    "\n",
    "#Subtraction\n",
    "print(\"Subtraction\")\n",
    "print(a-b)\n",
    "\n",
    "#Multiplication\n",
    "print(\"Multiplication\")\n",
    "print(a*b)\n",
    "\n",
    "#Division\n",
    "print(\"Division\")\n",
    "\n",
    "print(a/b)\n"
   ]
  },
  {
   "attachments": {},
   "cell_type": "markdown",
   "metadata": {},
   "source": [
    "\n",
    "\n",
    "Why does the division result have a decimal point?\n",
    "Numbers with decimal points are called floating point Numbers.\n",
    "\n",
    "By default division operation returns a Floating Point Number\n"
   ]
  },
  {
   "cell_type": "code",
   "execution_count": 11,
   "metadata": {},
   "outputs": [
    {
     "name": "stdout",
     "output_type": "stream",
     "text": [
      "Modulus\n",
      "2%9=\n",
      "1\n",
      "20%10=\n",
      "0\n"
     ]
    }
   ],
   "source": [
    "#The Modulus Operator\n",
    "\n",
    "print(\"Modulus\")\n",
    "a=2\n",
    "b=9\n",
    "print(\"2%9=\")\n",
    "print(b%a)\n",
    "\n",
    "c=10\n",
    "d=20\n",
    "print(\"20%10=\")\n",
    "print(d%c)\n"
   ]
  },
  {
   "attachments": {},
   "cell_type": "markdown",
   "metadata": {},
   "source": [
    "The modulus operator returns the remainder of a division operation between two numbers.​\n",
    "\n",
    "Some basic uses of the modulus Operator is to \n",
    "\n",
    "a)Check Whether a number is even or odd.\n",
    "b)Check whether a number is divisible by another number\n",
    "\n",
    "\n",
    "\n"
   ]
  },
  {
   "attachments": {},
   "cell_type": "markdown",
   "metadata": {},
   "source": [
    "Let's now learn Conditional Statements"
   ]
  },
  {
   "attachments": {},
   "cell_type": "markdown",
   "metadata": {},
   "source": [
    "Equals to : x==y​\n",
    "\n",
    "Not Equals to : x!=y​\n",
    "\n",
    "Greater than : x>y​\n",
    "\n",
    "Greater than equal to : x>=y​\n",
    "\n",
    "Less than: x<y​\n",
    "\n",
    "Less than or equal to : x<=y​\n",
    "\n",
    "​"
   ]
  },
  {
   "cell_type": "code",
   "execution_count": 15,
   "metadata": {},
   "outputs": [
    {
     "name": "stdout",
     "output_type": "stream",
     "text": [
      "Check if 10 is equal to 20\n",
      "The output displays Either True or False\n",
      "False\n",
      "True\n",
      "False\n",
      "True\n",
      "False\n",
      "True\n"
     ]
    }
   ],
   "source": [
    "x=10\n",
    "y=20\n",
    "print(\"Check if 10 is equal to 20\")\n",
    "print(\"The output displays Either True or False\")\n",
    "print(x==y)\n",
    "\n",
    "print(x!=y)\n",
    "\n",
    "print(x>y)\n",
    "\n",
    "print(x<y)\n",
    "\n",
    "print(x>=y)\n",
    "\n",
    "print(x<=y)"
   ]
  },
  {
   "attachments": {},
   "cell_type": "markdown",
   "metadata": {},
   "source": [
    "In programming, an if statement is used to check whether a certain condition is true or false. Based on the result of this check, the program can then decide what to do next.\n",
    "\n",
    "\n",
    "if condition:\n",
    "    code to execute if the condition is true\n",
    "    \n",
    "age = 10\n",
    "\n",
    "if age < 18:\n",
    "    print(\"You are not old enough to vote.\")\n"
   ]
  },
  {
   "cell_type": "code",
   "execution_count": 16,
   "metadata": {},
   "outputs": [
    {
     "name": "stdout",
     "output_type": "stream",
     "text": [
      "You are not old enough to vote.\n"
     ]
    }
   ],
   "source": [
    "age = 10\n",
    "\n",
    "if age < 18:\n",
    "    print(\"You are not old enough to vote.\")\n"
   ]
  },
  {
   "cell_type": "markdown",
   "metadata": {},
   "source": []
  }
 ],
 "metadata": {
  "kernelspec": {
   "display_name": "Python 3",
   "language": "python",
   "name": "python3"
  },
  "language_info": {
   "codemirror_mode": {
    "name": "ipython",
    "version": 3
   },
   "file_extension": ".py",
   "mimetype": "text/x-python",
   "name": "python",
   "nbconvert_exporter": "python",
   "pygments_lexer": "ipython3",
   "version": "3.10.2"
  },
  "orig_nbformat": 4
 },
 "nbformat": 4,
 "nbformat_minor": 2
}
