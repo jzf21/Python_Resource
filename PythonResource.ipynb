{
 "cells": [
  {
   "cell_type": "code",
   "execution_count": 1,
   "metadata": {},
   "outputs": [
    {
     "name": "stdout",
     "output_type": "stream",
     "text": [
      "Hello World\n"
     ]
    }
   ],
   "source": [
    "print(\"Hello World\")"
   ]
  },
  {
   "cell_type": "code",
   "execution_count": 13,
   "metadata": {},
   "outputs": [
    {
     "name": "stdout",
     "output_type": "stream",
     "text": [
      "Hello World\n",
      "5\n"
     ]
    }
   ],
   "source": [
    "x=\"Hello World\"\n",
    "#This is called storing data into a variable\n",
    "#hello is known as a variable and we can store any data into it\n",
    "print(x)\n",
    "#Output: Hello World\n",
    "\n",
    "y=5\n",
    "print(\"Printing Second variable y\")\n",
    "print(y)"
   ]
  },
  {
   "attachments": {},
   "cell_type": "markdown",
   "metadata": {},
   "source": [
    "Printing Multiple variables in a single print Statement"
   ]
  },
  {
   "cell_type": "code",
   "execution_count": 14,
   "metadata": {},
   "outputs": [
    {
     "name": "stdout",
     "output_type": "stream",
     "text": [
      "John has 20 apples\n"
     ]
    }
   ],
   "source": [
    "name=\"John\"\n",
    "apples=20\n",
    "print(name,\"has\",apples,\"apples\")\n",
    "#variable name should not be put in quotes\n",
    "\n",
    "print(name,\"has\",\"apples\",\"apples\")"
   ]
  },
  {
   "attachments": {},
   "cell_type": "markdown",
   "metadata": {},
   "source": [
    "Let's try out an example\n",
    "\n",
    "Write a program to Enter your name , class and roll number and display it.\n",
    "We can store yo"
   ]
  },
  {
   "attachments": {},
   "cell_type": "markdown",
   "metadata": {},
   "source": [
    "The print statement displays the string  inside the brackets\n",
    "\n",
    "Input Statement. Input Statement let's the user to input information.\n",
    "\n",
    "In Python, the input statement is used to ask the user for some information. This information can be anything, like their name, age, or favorite color.\n",
    "\n"
   ]
  },
  {
   "cell_type": "code",
   "execution_count": null,
   "metadata": {},
   "outputs": [],
   "source": [
    "#how to use input statement\n",
    "name = input(\"What is your name? \")\n",
    "print(\"Hello\", name)"
   ]
  },
  {
   "cell_type": "code",
   "execution_count": 2,
   "metadata": {},
   "outputs": [
    {
     "ename": "SyntaxError",
     "evalue": "invalid syntax. Perhaps you forgot a comma? (2497053111.py, line 1)",
     "output_type": "error",
     "traceback": [
      "\u001b[1;36m  Cell \u001b[1;32mIn[2], line 1\u001b[1;36m\u001b[0m\n\u001b[1;33m    print(hello world)\u001b[0m\n\u001b[1;37m          ^\u001b[0m\n\u001b[1;31mSyntaxError\u001b[0m\u001b[1;31m:\u001b[0m invalid syntax. Perhaps you forgot a comma?\n"
     ]
    }
   ],
   "source": [
    "print(hello world)"
   ]
  },
  {
   "attachments": {},
   "cell_type": "markdown",
   "metadata": {},
   "source": [
    "Always Remember to Enclose the string with double quotes.\n",
    "Otherwise you will get an error."
   ]
  },
  {
   "cell_type": "code",
   "execution_count": 4,
   "metadata": {},
   "outputs": [
    {
     "name": "stdout",
     "output_type": "stream",
     "text": [
      "Addition\n",
      "15\n",
      "Subtraction\n",
      "5\n",
      "Multiplication\n",
      "50\n",
      "Division\n",
      "2.0\n"
     ]
    }
   ],
   "source": [
    "#Let's check out some basic mathematics in python\n",
    "\n",
    "#Assigning variables\n",
    "\n",
    "a=10\n",
    "b=5\n",
    "\n",
    "#Addition\n",
    "print(\"Addition\")\n",
    "print(a+b)\n",
    "\n",
    "#Subtraction\n",
    "print(\"Subtraction\")\n",
    "print(a-b)\n",
    "\n",
    "#Multiplication\n",
    "print(\"Multiplication\")\n",
    "print(a*b)\n",
    "\n",
    "#Division\n",
    "print(\"Division\")\n",
    "\n",
    "print(a/b)\n"
   ]
  },
  {
   "attachments": {},
   "cell_type": "markdown",
   "metadata": {},
   "source": [
    "\n",
    "\n",
    "Why does the division result have a decimal point?\n",
    "Numbers with decimal points are called floating point Numbers.\n",
    "\n",
    "By default division operation returns a Floating Point Number\n"
   ]
  },
  {
   "cell_type": "code",
   "execution_count": 11,
   "metadata": {},
   "outputs": [
    {
     "name": "stdout",
     "output_type": "stream",
     "text": [
      "Modulus\n",
      "2%9=\n",
      "1\n",
      "20%10=\n",
      "0\n"
     ]
    }
   ],
   "source": [
    "#The Modulus Operator\n",
    "\n",
    "print(\"Modulus\")\n",
    "a=2\n",
    "b=9\n",
    "print(\"2%9=\")\n",
    "print(b%a)\n",
    "\n",
    "c=10\n",
    "d=20\n",
    "print(\"20%10=\")\n",
    "print(d%c)\n"
   ]
  },
  {
   "attachments": {},
   "cell_type": "markdown",
   "metadata": {},
   "source": [
    "The modulus operator returns the remainder of a division operation between two numbers.​\n",
    "\n",
    "Some basic uses of the modulus Operator is to \n",
    "\n",
    "a)Check Whether a number is even or odd.\n",
    "b)Check whether a number is divisible by another number\n",
    "\n",
    "\n",
    "\n"
   ]
  },
  {
   "attachments": {},
   "cell_type": "markdown",
   "metadata": {},
   "source": [
    "Let's now learn Conditional Statements"
   ]
  },
  {
   "attachments": {},
   "cell_type": "markdown",
   "metadata": {},
   "source": [
    "Equals to : x==y​\n",
    "\n",
    "Not Equals to : x!=y​\n",
    "\n",
    "Greater than : x>y​\n",
    "\n",
    "Greater than equal to : x>=y​\n",
    "\n",
    "Less than: x<y​\n",
    "\n",
    "Less than or equal to : x<=y​\n",
    "\n",
    "​"
   ]
  },
  {
   "cell_type": "code",
   "execution_count": 15,
   "metadata": {},
   "outputs": [
    {
     "name": "stdout",
     "output_type": "stream",
     "text": [
      "Check if 10 is equal to 20\n",
      "The output displays Either True or False\n",
      "False\n",
      "True\n",
      "False\n",
      "True\n",
      "False\n",
      "True\n"
     ]
    }
   ],
   "source": [
    "x=10\n",
    "y=20\n",
    "print(\"Check if 10 is equal to 20\")\n",
    "print(\"The output displays Either True or False\")\n",
    "print(x==y)\n",
    "\n",
    "print(x!=y)\n",
    "\n",
    "print(x>y)\n",
    "\n",
    "print(x<y)\n",
    "\n",
    "print(x>=y)\n",
    "\n",
    "print(x<=y)"
   ]
  },
  {
   "attachments": {},
   "cell_type": "markdown",
   "metadata": {},
   "source": [
    "In programming, an if statement is used to check whether a certain condition is true or false. Based on the result of this check, the program can then decide what to do next.\n",
    "\n",
    "\n",
    "if condition:\n",
    "    code to execute if the condition is true\n",
    "    \n",
    "age = 10\n",
    "\n",
    "if age < 18:\n",
    "    print(\"You are not old enough to vote.\")\n"
   ]
  },
  {
   "cell_type": "code",
   "execution_count": 16,
   "metadata": {},
   "outputs": [
    {
     "name": "stdout",
     "output_type": "stream",
     "text": [
      "You are not old enough to vote.\n"
     ]
    }
   ],
   "source": [
    "age = 10\n",
    "\n",
    "if age < 18:\n",
    "    print(\"You are not old enough to vote.\")\n"
   ]
  },
  {
   "attachments": {},
   "cell_type": "markdown",
   "metadata": {},
   "source": [
    "Let's do this program with user inputs.\n",
    "\n",
    "In this example we'll have to "
   ]
  },
  {
   "cell_type": "code",
   "execution_count": null,
   "metadata": {},
   "outputs": [],
   "source": [
    "#examples of if else\n",
    "\n",
    "age= int(input(\"Enter your age: \"))\n",
    "if age < 18:\n",
    "    print(\"You are not old enough to vote.\")\n"
   ]
  },
  {
   "attachments": {},
   "cell_type": "markdown",
   "metadata": {},
   "source": [
    "In this case the code won't return anything if your age is greater than 18.\n",
    "\n",
    "So how can we fix that?\n",
    "\n",
    "\n",
    "We can use multiple if statements.\n",
    "\n",
    "We can use an if statement to check if age is greater than 18 and an if statement to check if age is lesser than 18\n"
   ]
  },
  {
   "cell_type": "code",
   "execution_count": null,
   "metadata": {},
   "outputs": [],
   "source": [
    "# Let's display the output you are able to vote if you are 18 or older and you are not able to \n",
    "# vote if you are younger than 18\n",
    "\n",
    "age= int(input(\"Enter your age: \"))\n",
    "if age < 18:\n",
    "    print(\"You are not old enough to vote.\")\n",
    "if age>=18:#Use greater than or equal to here because if you are 18 you are able to vote\n",
    "    print(\"You are able to vote\")"
   ]
  },
  {
   "attachments": {},
   "cell_type": "markdown",
   "metadata": {},
   "source": [
    "Write a program to check how many years you have left to turn 18\n"
   ]
  },
  {
   "cell_type": "code",
   "execution_count": 17,
   "metadata": {},
   "outputs": [],
   "source": [
    "#Write a program to display how many years you have to turn 18 years old\n",
    "\n",
    "\n",
    "age = int(input(\"Enter your age: \"))\n",
    "if age < 18:\n",
    "    age_left_to_vote = 18 - age\n",
    "    \n",
    "    print(\"You have\",18-age,\"years to turn 18 years old\")"
   ]
  },
  {
   "cell_type": "markdown",
   "metadata": {},
   "source": []
  },
  {
   "attachments": {},
   "cell_type": "markdown",
   "metadata": {},
   "source": [
    "If-else Statement\n",
    "An if-else statement is a type of conditional statement that allows your program to take different actions based on whether a condition is true or false.\n",
    "\n",
    "if condition:\n",
    "    code to execute if the condition is true\n",
    "else:\n",
    "    code to execute if the condition is false"
   ]
  },
  {
   "cell_type": "code",
   "execution_count": null,
   "metadata": {},
   "outputs": [],
   "source": [
    "age = int(input(\"Enter your age: \"))\n",
    "\n",
    "if age < 18:\n",
    "    print(\"You are not old enough to vote.\")\n",
    "else:\n",
    "    print(\"You are old enough to vote!\")\n"
   ]
  },
  {
   "attachments": {},
   "cell_type": "markdown",
   "metadata": {},
   "source": [
    "Here's a program you can try.\n"
   ]
  },
  {
   "attachments": {},
   "cell_type": "markdown",
   "metadata": {},
   "source": [
    "Check whether a number is odd or even\n"
   ]
  },
  {
   "attachments": {},
   "cell_type": "markdown",
   "metadata": {},
   "source": [
    "If a number is even, then when you divide it by 2, the remainder will be 0.\n",
    "If a number is odd, then when you divide it by 2, the remainder will be 1."
   ]
  },
  {
   "cell_type": "code",
   "execution_count": 19,
   "metadata": {},
   "outputs": [
    {
     "name": "stdout",
     "output_type": "stream",
     "text": [
      "2  is even\n"
     ]
    }
   ],
   "source": [
    "#program to check odd or even\n",
    "\n",
    "# num = int(input(\"Enter a number: \"))\n",
    "num=2\n",
    "if num % 2 == 0:\n",
    "    print(num, \" is even\")\n",
    "else:\n",
    "    print(num,\" is odd\")\n",
    "\n"
   ]
  },
  {
   "attachments": {},
   "cell_type": "markdown",
   "metadata": {},
   "source": [
    "Check if a number is divisible by both 5 and 3. \n",
    "If the number is divisible by both 3 and 5 print Divisible\n",
    "else print not divisible\n",
    "\n"
   ]
  },
  {
   "attachments": {},
   "cell_type": "markdown",
   "metadata": {},
   "source": []
  },
  {
   "cell_type": "markdown",
   "metadata": {},
   "source": []
  },
  {
   "cell_type": "code",
   "execution_count": null,
   "metadata": {},
   "outputs": [],
   "source": [
    "num=int(input(\"Enter a number: \"))\n",
    "if num % 3 == 0:\n",
    "    if num%5==0:\n",
    "        print(\"Number is divisible by both 3 and 5\")\n",
    "    else:\n",
    "        print(\"Number is not divisible by 3 and 5\")\n",
    "else:\n",
    "    print(\"Number is not divisible by 3 and 5\")"
   ]
  },
  {
   "attachments": {},
   "cell_type": "markdown",
   "metadata": {},
   "source": [
    "Logical Operators in Python \n",
    "\n",
    "'and' and 'or'\n",
    "\n",
    "The and and or operators are used to combine conditions in a conditional statement.\n",
    "\n",
    "The and operator returns True if both conditions are true, and False otherwise. It's like saying \"this and this must both be true in order for this statement to be true.\" Here's an example:\n",
    "\n",
    "You want to ride a rollercoaster in an Amusement Park. The condition to ride is you have to be tall and you have to be older than 8 years old.\n"
   ]
  },
  {
   "cell_type": "code",
   "execution_count": null,
   "metadata": {},
   "outputs": [],
   "source": [
    "age = 10\n",
    "is_tall = True\n",
    "\n",
    "if age > 8 and is_tall:\n",
    "    print(\"You are old enough and tall enough to ride this roller coaster!\")\n",
    "else:\n",
    "    print(\"Sorry, you are not old enough or tall enough to ride this roller coaster.\")\n"
   ]
  },
  {
   "cell_type": "code",
   "execution_count": 20,
   "metadata": {},
   "outputs": [],
   "source": [
    "#Write a program to check if a number ends with 0 or not\n",
    "\n"
   ]
  },
  {
   "cell_type": "code",
   "execution_count": 24,
   "metadata": {},
   "outputs": [
    {
     "name": "stdout",
     "output_type": "stream",
     "text": [
      "0\n",
      "3\n"
     ]
    }
   ],
   "source": [
    "x=10\n",
    "y=23\n",
    "print(x%10)\n",
    "print(y%10)"
   ]
  },
  {
   "attachments": {},
   "cell_type": "markdown",
   "metadata": {},
   "source": [
    "So you may have figured out that when we divide a number by 10 it's remainder will be the digit in the ones place\n"
   ]
  },
  {
   "cell_type": "code",
   "execution_count": 25,
   "metadata": {},
   "outputs": [
    {
     "name": "stdout",
     "output_type": "stream",
     "text": [
      "Number does not end with 0\n"
     ]
    }
   ],
   "source": [
    "num=int(input(\"Enter a number: \"))\n",
    "if num%10==0:\n",
    "    print(\"Number ends with 0\")\n",
    "else:\n",
    "    print(\"Number does not end with 0\")"
   ]
  },
  {
   "cell_type": "code",
   "execution_count": 28,
   "metadata": {},
   "outputs": [
    {
     "name": "stdout",
     "output_type": "stream",
     "text": [
      "String starts with a vowel\n"
     ]
    }
   ],
   "source": [
    "#Write a program to check if your name starts with a vowel\n",
    "\n",
    "str=input(\"Enter your name: \")\n",
    "#to get the first character of a string we use str[0]\n",
    "#in computer the first index is 0\n",
    "#to get the second character of a string we use str[1]\n",
    "#to get the third character of a string we use str[2] and so on\n",
    "if str[0]=='a' or str[0]=='e' or str[0]=='i' or str[0]=='o' or str[0]=='u':\n",
    "    print(\"Your name starts with a vowel\")\n",
    "else:\n",
    "    print(\"Your name does not start with a vowel\")\n"
   ]
  },
  {
   "attachments": {},
   "cell_type": "markdown",
   "metadata": {},
   "source": [
    "\"elif\" is a short form of \"else if\" and is used in programming to check for multiple conditions.\n",
    "\n",
    "Let's say you want to program a robot to make decisions based on different conditions. For example, if the robot senses an obstacle in front of it, it needs to stop, if it senses a green light it should go, and if it senses a yellow light it should slow down.\n",
    "\n",
    "You can use \"if\" statements to check for these conditions one at a time, but sometimes you need to check for multiple conditions. That's where \"elif\" comes in handy."
   ]
  },
  {
   "cell_type": "code",
   "execution_count": null,
   "metadata": {},
   "outputs": [],
   "source": [
    "color = input(\"Enter a color: \")\n",
    "\n",
    "if color == \"red\":\n",
    "    print(\"Stop!\")\n",
    "elif color == \"green\":\n",
    "    print(\"Go!\")\n",
    "elif color == \"yellow\":\n",
    "    print(\"Slow down!\")\n",
    "else:\n",
    "    print(\"I don't know what to do.\")\n"
   ]
  },
  {
   "cell_type": "code",
   "execution_count": null,
   "metadata": {},
   "outputs": [],
   "source": [
    "#Program to check if number is positive ,negative or zero\n",
    "\n",
    "num=int(input(\"Enter a number: \"))\n",
    "if num>0:\n",
    "    print(\"Number is positive\")\n",
    "elif num<0:\n",
    "    print(\"Number is negative\")\n",
    "else:\n",
    "    print(\"Number is zero\")"
   ]
  },
  {
   "cell_type": "code",
   "execution_count": null,
   "metadata": {},
   "outputs": [],
   "source": [
    "#Write a program to Display your grades depending on your marks\n",
    "\n",
    "#A if marks are greater than 80 and less than equal to 100\n",
    "#B if marks are greater than 60 and less than 80\n",
    "#C if marks are less than 60 \n",
    "\n",
    "marks=int(input(\"Enter your marks: \"))\n",
    "if marks>80 and marks<=100:\n",
    "    print(\"A\")\n",
    "elif marks>=60 and marks<80:\n",
    "    print(\"B\")\n",
    "elif marks<60:\n",
    "    print(\"C\")"
   ]
  },
  {
   "attachments": {},
   "cell_type": "markdown",
   "metadata": {},
   "source": [
    "Program to find the greatest of 3 numbers.\n",
    "\n",
    "Let's say we have 3 numbers: 5, 10, and 3. We want to find out which of these numbers is the greatest, or biggest.\n",
    "\n",
    "To do this, we can compare each number to the others. We start by comparing the first two numbers, 5 and 10. We see that 10 is bigger than 5, so we remember that 10 is the biggest number we have seen so far.\n",
    "\n",
    "Next, we compare the biggest number we have seen so far, which is 10, to the third number, which is 3. We see that 10 is bigger than 3, so we don't need to change our answer - 10 is still the biggest number we have seen.\n",
    "\n",
    "So, the greatest of these 3 numbers is 10!"
   ]
  },
  {
   "cell_type": "code",
   "execution_count": null,
   "metadata": {},
   "outputs": [],
   "source": [
    "#Write a program to find the greatest of 3 numbers\n",
    "a = int(input(\"Enter a number: \"))\n",
    "b = int(input(\"Enter a number: \"))\n",
    "c = int(input(\"Enter a number: \"))\n",
    "\n",
    "if a > b and a > c:\n",
    "    print(\"The greatest number is:\", a)\n",
    "elif b > a and b > c:\n",
    "    print(\"The greatest number is:\", b)\n",
    "else:\n",
    "    print(\"The greatest number is:\", c)\n"
   ]
  },
  {
   "attachments": {},
   "cell_type": "markdown",
   "metadata": {},
   "source": [
    "The Leap Year Problem.\n",
    "\n",
    "If a year is evenly divisible by 4 means having no remainder then go to next step. If it is not divisible by 4. It is not a leap year. For example: 1997 is not a leap year.\n",
    "If a year is divisible by 4, but not by 100. For example: 2012, it is a leap year. If a year is divisible by both 4 and 100, go to next step.\n",
    "If a year is divisible by 100, but not by 400. For example: 1900, then it is not a leap year. If a year is divisible by both, then it is a leap year. So 2000 is a leap year."
   ]
  },
  {
   "cell_type": "code",
   "execution_count": null,
   "metadata": {},
   "outputs": [],
   "source": [
    "year = int(input(\"Enter a year: \"))\n",
    "if year % 4 == 0:\n",
    "    if year % 100 == 0:\n",
    "        if year % 400 == 0:\n",
    "            print(\"Leap year\")\n",
    "        else:\n",
    "            print(\"Not a leap year\")\n",
    "    else:\n",
    "        print(\"Leap year\")\n",
    "\n",
    "\n",
    "if year % 4 == 0 and year % 100 != 0 or year % 400 == 0:\n",
    "    print(\"Leap year\")"
   ]
  }
 ],
 "metadata": {
  "kernelspec": {
   "display_name": "Python 3",
   "language": "python",
   "name": "python3"
  },
  "language_info": {
   "codemirror_mode": {
    "name": "ipython",
    "version": 3
   },
   "file_extension": ".py",
   "mimetype": "text/x-python",
   "name": "python",
   "nbconvert_exporter": "python",
   "pygments_lexer": "ipython3",
   "version": "3.10.2"
  },
  "orig_nbformat": 4
 },
 "nbformat": 4,
 "nbformat_minor": 2
}
